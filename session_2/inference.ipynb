{
 "cells": [
  {
   "cell_type": "code",
   "execution_count": 1,
   "metadata": {},
   "outputs": [],
   "source": [
    "import numpy as np\n",
    "from lib import ProbabilisticGraph, Node, Edge"
   ]
  },
  {
   "cell_type": "markdown",
   "metadata": {},
   "source": [
    "# Inference in the Sprinkler model\n",
    "\n",
    "Remember the Sprinkler model :\n",
    "<img src=\"img/sprinkler.png\" width=\"200\"/>\n",
    "\n",
    "Each of the $4$ variables follows a Bernoulli distribution :\n",
    "- It rained this morning ($rain=1$) with probability $0.2$\n",
    "- The sprinkler was on ($sprinkler=1$) with probability $0.5$\n",
    "\n",
    "\n",
    "The following table gives wet grass conditional probability $P(grass=1~|~rain,sprinkler)$:\n",
    "<table>\n",
    "    <tr>\n",
    "        <td></td>\n",
    "        <td>$rain = 0$</td>\n",
    "        <td>$rain = 1$</td>\n",
    "    </tr>\n",
    "    <tr>\n",
    "        <td>$sprinkler=0$</td>\n",
    "        <td>$0.01$</td>\n",
    "        <td>$0.8$</td>\n",
    "    </tr>\n",
    "    <tr>\n",
    "        <td>$sprinkler=1$</td>\n",
    "        <td>$0.8$</td>\n",
    "        <td>$0.95$</td>\n",
    "    </tr>\n",
    "</table>\n",
    "\n",
    "Finally, we also have the following table for the wet dog conditional $P(dog=1~|~grass)$:\n",
    "<table>\n",
    "    <tr>\n",
    "        <td></td>\n",
    "        <td>$grass = 0$</td>\n",
    "        <td>$grass = 1$</td>\n",
    "    </tr>\n",
    "    <tr>\n",
    "        <td>$dog=1$</td>\n",
    "        <td>$0.2$</td>\n",
    "        <td>$0.7$</td>\n",
    "    </tr>\n",
    "</table>\n",
    "\n",
    "\n",
    "### Question 1 :\n",
    "- Explain why this model cannot be used as input for a sum-product algorithm.\n",
    "- How can we fix this ?\n",
    "- In the following cells, we use `lib.ProbabilisticGraph` to define a tree on which to run the sum-product algorithm. Read and understand the code in the following cells. Complete the TODOs with the correct potentials according to our model."
   ]
  },
  {
   "cell_type": "code",
   "execution_count": null,
   "metadata": {},
   "outputs": [],
   "source": [
    "p_rain, p_no_rain =   # TODO: complete\n",
    "p_sprinkled = p_no_sprinkled =   # TODO: complete"
   ]
  },
  {
   "cell_type": "code",
   "execution_count": null,
   "metadata": {},
   "outputs": [],
   "source": [
    "# Create the ProbabilisticGraph object\n",
    "model = ProbabilisticGraph()\n",
    "\n",
    "# We add a node to our model for the joint probability of the rain and sprinkler.\n",
    "rain_sprinkler = model.add_node(\n",
    "    'rain_sprinkler',  # define a clear name for easier access\n",
    "    # array of unary potentials for this node\n",
    "    # TODO: complete the following array\n",
    "    np.array([\n",
    "        # P(rain=0, sprinkler=0), P(rain=0, sprinkler=1), P(rain=1, sprinkler=0), P(rain=1, sprinkler=1)\n",
    "    ])\n",
    ")\n",
    "\n",
    "# The grass node\n",
    "grass = model.add_node('grass', np.array())  # TODO: complete the unary potentials\n",
    "\n",
    "# The dog node\n",
    "dog = model.add_node('dog', np.array())  # TODO: complete the unary potentials\n"
   ]
  },
  {
   "cell_type": "code",
   "execution_count": null,
   "metadata": {},
   "outputs": [],
   "source": [
    "# Now that all the nodes are added, we can add the binary potentials for each edges in the model\n",
    "model.add_edge(\n",
    "    # An edge that goes from rain_sprinkler to grass\n",
    "    rain_sprinkler.id, grass.id,\n",
    "    # The binary potential A.\n",
    "    # It is of shape = (|grass|, |rain_sprinkler|)\n",
    "    # where |X| denotes the number of categorical values of X.\n",
    "    np.array(),  # TODO: complete\n",
    ")\n",
    "\n",
    "# We do the same for grass->dog\n",
    "model.add_edge(\n",
    "    grass.id, dog.id,\n",
    "    np.array()  # TODO: complete\n",
    ")"
   ]
  },
  {
   "cell_type": "markdown",
   "metadata": {},
   "source": [
    "### Question 2:\n",
    "- How can we compute $P(rain, sprinkler | dog=1)$, with the sum product algorithm ?\n",
    "- Complete the following cells to perform inference, and observe that given an observation of the dog, rain and sprinkler are not independent.\n",
    "- How many messages are needed to do inference in this graph ? Why ?"
   ]
  },
  {
   "cell_type": "code",
   "execution_count": null,
   "metadata": {},
   "outputs": [],
   "source": [
    "# How can we observe that the dog is wet ?\n",
    "dog.potentials = np.array([0, 1])  # TODO: complete\n",
    "\n",
    "# Reset all messages in the graph\n",
    "model.reset_messages()\n",
    "# Use sum-product on this graph.\n",
    "while True:\n",
    "    # model.send_messages returns the number of messages sent at the current iteration\n",
    "    n_sent_messages = model.send_messages()\n",
    "    print(n_sent_messages)\n",
    "    if n_sent_messages == 0:\n",
    "        break"
   ]
  },
  {
   "cell_type": "code",
   "execution_count": null,
   "metadata": {},
   "outputs": [],
   "source": [
    "# Node.get_marginal() returns the marginal probabilities for this node, in the order of the unary potentials\n",
    "marginals, _z = rain_sprinkler.get_marginal()\n",
    "# marginals = [\n",
    "#  P(rain=0, sprinkler=0 | dog), P(rain=0, sprinkler=1 | dog),\n",
    "#  P(rain=1, sprinkler=0 | dog), P(rain=1, sprinkler=1 | dog)  \n",
    "#]\n",
    "\n",
    "# From these marginals, compute the marginal probability that it rained, or that the sprinkler was on\n",
    "proba_rain_on =  # TODO: complete\n",
    "proba_sprinkler_on =  # TODO: complete\n",
    "\n",
    "# Observe that given dog was wet, rain and sprinkler are not independent.\n",
    "print()  # TODO: complete"
   ]
  },
  {
   "cell_type": "markdown",
   "metadata": {},
   "source": [
    "### Question 3:\n",
    "How can we see directly on the graph that in general, a distribution that factorizes in this graph does not satisfy conditional independence of $rain$ and $sprinkler$ given $dog$ ?\n",
    "\n",
    "### Question 4:\n",
    "Play with the model, and verify a few intuitive properties of the marginal probabilities in the cell below."
   ]
  },
  {
   "cell_type": "code",
   "execution_count": null,
   "metadata": {},
   "outputs": [],
   "source": []
  },
  {
   "cell_type": "markdown",
   "metadata": {},
   "source": [
    "# Inference in Phylogenetic Trees\n",
    "\n",
    "A phylogenetic tree is a tool used in biology to describe relations between species. We will use the following phylogenetic tree :\n",
    "<img src=\"img/phylo.png\" width=\"500\">\n",
    "\n",
    "In this picture, nodes correspond to species. Each species can split at a point in time in two sub-species (giving rise to branches in the tree). The length of a branch denotes the expected amount of DNA substitutions (mutation of a single nucleotide) between two species.\n",
    "\n",
    "We will study the following graphical model on DNA, deduced from this phylogenetic tree :\n",
    "\n",
    "<img src=\"img/phylo_pgm.png\" width=\"500\">\n",
    "\n",
    "\n",
    "The random variables in this graphical model are _nucleotides_ (the basic building blocks of DNA). They take categorical values in $\\{A, T, G, C\\}$. Biologists have defined binary and unary potentials on this graphical model, to model how the DNA might evolve in time.\n",
    "\n",
    "\n",
    "Your biologist friend recently encountered an <b>unknown</b> species ! Luckily, he was able to sequence it's DNA. As a data-scientist, you proposed to help him update his phylogenetic tree to include this new species.\n",
    "\n",
    "In the following cell, we load a (synthetic) dataset containing the DNA of 9 species."
   ]
  },
  {
   "cell_type": "code",
   "execution_count": null,
   "metadata": {},
   "outputs": [],
   "source": [
    "import numpy as np\n",
    "dataset = np.load('data/dna.npy')\n",
    "print(dataset.shape)"
   ]
  },
  {
   "cell_type": "markdown",
   "metadata": {},
   "source": [
    "Each row of this dataset corresponds to the nucleotides observed at a given location in the DNA for different species. More specifically, each row is a vector $X_i \\in \\{A, T, G, C\\}^9$ ($A=0$, $T=1$, $G=2$, $C=3$) with each element of this vector corresponding to the nucleotide at a certain site in the DNA of human, baboon, mouse, rat, cow, pig, cat, dog and the new species, in this order."
   ]
  },
  {
   "cell_type": "code",
   "execution_count": null,
   "metadata": {},
   "outputs": [],
   "source": [
    "observed = [\n",
    "    \"human\", \"baboon\", \"mouse\", \"rat\",\n",
    "    \"cow\", \"pig\", \"cat\", \"dog\",\n",
    "    \"observed\"\n",
    "]"
   ]
  },
  {
   "cell_type": "markdown",
   "metadata": {},
   "source": [
    "In order to update our phylogenetic tree, we need to figure out where a branch needs to be added. We consider that the branch to the new species comes from a new node which is inserted in the middle of some edge of our original model.\n",
    "\n",
    "<img src=\"img/phylo_insert_1.png\" width=\"500\"/>\n",
    "\n",
    "For example, in this tree, we added a node <em>new_ancestor</em> between _child2_ and _child5_, leading to _child5_ and our new species _observed_.\n",
    "\n",
    "However, we don't know where this insertion really happened. There are $14$ trees possible (since there were $14$ edges in the original tree, and the insertion could have happened anywhere).\n",
    "\n",
    "The following cell generates the corresponding 14 graphical models."
   ]
  },
  {
   "cell_type": "code",
   "execution_count": null,
   "metadata": {},
   "outputs": [],
   "source": [
    "from lib import gen_candidate_trees\n",
    "\n",
    "trees = gen_candidate_trees()\n",
    "\n",
    "# Each key of this dictionary corresponds to the insertion edge\n",
    "print(trees.keys(), \"\\n\\n\")\n",
    "\n",
    "# Each value of the dictionary is a tuple [ProbabilisticGraph, string]\n",
    "# We can look at each tree, by printing the string\n",
    "\n",
    "# notice new_ancestor inserted between child 1 and child 3, with descendant child3 and observed.\n",
    "print(trees[\"child1->child3\"][1])\n"
   ]
  },
  {
   "cell_type": "markdown",
   "metadata": {},
   "source": [
    "To figure out where the insertion happened, we will look at the log-likelihood of our dataset under each of these $14$ models.\n",
    "\n",
    "For a given probabilistic model $\\Psi_m$, the log-likelihood we are interested in is :\n",
    "$$\\mathbb{P}_{\\Psi_m}(human=X_{i,0},baboon=X_{i,1},mouse=X_{i,2},rat=X_{i,3},cow=X_{i,4},pig=X_{i,5},cat=X_{i,6},dog=X_{i,7},observed=X_{i,8})$$\n",
    "\n",
    "However, the sum-product algorithm seen is class was used to compute marginals of a <b>single node</b>. Whereas we are interested here in the marginal-probability of all the leaves of our tree. We will understand in the following questions how this quantity can be found using the sum-product algorithm.\n",
    "\n",
    "### Question 4 :\n",
    "Let $H$ be the interior nodes and $L$ the leaves. Assume that we have observed $X_L = x^{obs}_L$ which are <b>fixed</b>.\n",
    "\n",
    "Consider the _Gibbs_ distribution on $X_H$ (the interior nodes) of the form \n",
    "$$q(x_H) = \\frac{1}{Z}\\prod_{i\\in H}\\Big[\\Psi_{i, \\pi_i}(x_i, x_{\\pi_i})\\Psi_{i}(x_i)\\Big]$$\n",
    "With\n",
    "$$\\Psi_{i, \\pi_i}(x_i, x_{\\pi_i}) = p(x_i | x_{\\pi_i}) \\qquad \\Psi_{i}(x_i) = \\prod_{j\\in\\text{children}(i) \\cap L}\\mathbb{P}(X_j=x^{obs}_j|X_i=x_i)$$\n",
    "\n",
    "- Show that $$q(x_H) = \\frac{1}{Z}\\Big[\\prod_{i\\in H}p(x_i|x_{\\pi_i})\\Big]\\Big[\\prod_{i\\in L}p(X_i=x^{obs}_i|X_{\\pi_i}=x_{\\pi_i})\\Big]$$\n",
    "- Deduce from this that $$q(x_H) = \\frac{1}{Z}\\mathbb{P}(X_H=x_H, X_L=x_L^{obs})$$\n",
    "- Deduce from this that $\\mathbb{P}(X_L=x^{obs}_L) = Z$\n",
    "- How can you use Sum-Product to compute $\\mathbb{P}(X_L=x^{obs}_L)$ ?"
   ]
  },
  {
   "cell_type": "code",
   "execution_count": null,
   "metadata": {},
   "outputs": [],
   "source": [
    "avg_log_likelihood = []\n",
    "edges = []\n",
    "for tree, (proba_graph, _string) in trees.items():\n",
    "    log_likelihoods = []\n",
    "    for row_id, dna_site in enumerate(dataset):\n",
    "        # For each of the 9 species, update the potentials to observe the nucleotides\n",
    "        for node_name, nucleotide in zip(observed, dna_site):\n",
    "            # Get the Node object from the probabilistic graph\n",
    "            node = proba_graph.get_node(node_name)\n",
    "            # Set its potentials to 0 everywhere except for the observed nucleotide\n",
    "            node.potentials *= 0\n",
    "            node.potentials[int(nucleotide)] = 1\n",
    "        #Reset the messages\n",
    "        proba_graph.reset_messages()\n",
    "        \n",
    "        # Run inference in this probabilistic graph\n",
    "        while proba_graph.send_messages():\n",
    "            pass\n",
    "        # P(X_0, ..., X_9) = Z\n",
    "        # we can compute this normalizing factor anywhere in the hidden nodes.\n",
    "        _, Z_dna_site = proba_graph.get_node(\"root\").get_marginal()\n",
    "\n",
    "        log_likelihoods.append(np.log(Z_dna_site))\n",
    "        \n",
    "        # Reset the potentials for this graph\n",
    "        for node_name in observed:\n",
    "            node = proba_graph.get_node(node_name)\n",
    "            node.potentials.fill(1)\n",
    "        \n",
    "    # Get average log-likelihood\n",
    "    avg_log_likelihood.append(np.mean(log_likelihoods))\n",
    "    edges.append(tree)"
   ]
  },
  {
   "cell_type": "code",
   "execution_count": null,
   "metadata": {},
   "outputs": [],
   "source": [
    "from matplotlib import pyplot as plt\n",
    "\n",
    "plt.figure(dpi=150)\n",
    "plt.xticks(rotation='vertical')\n",
    "plt.bar(edges, avg_log_likelihood)\n",
    "plt.show()"
   ]
  },
  {
   "cell_type": "markdown",
   "metadata": {},
   "source": [
    "### Question 4:\n",
    "- According to this figure, what is the most likely edge where the insertion happened.\n",
    "\n",
    "### Question 5:\n",
    "- Describe how you would obtain the most likely DNA for the ancestor of the species you just discovered ? In particular, which quantities do you need to compute ? How can they be computed ?\n",
    "- Implement this method in the next cell. The corresponding node in the probabilistic graph is named `new_ancestor`. Include its first 10 nucleotides (in numerical form) in your report.\n",
    "\n",
    "### Note :\n",
    "- Feel free to look at lib.py to see how I implemented the sum-product algorithm. The relevant classes are `Edge`, `Node` and `ProbabilisticGraph`. In `ProbabilisticGraph`, you can focus on `send_messages`. In `Node` all the methods are related to the SumProduct Algorithm"
   ]
  },
  {
   "cell_type": "code",
   "execution_count": null,
   "metadata": {},
   "outputs": [],
   "source": []
  }
 ],
 "metadata": {
  "kernelspec": {
   "display_name": "Python 3",
   "language": "python",
   "name": "python3"
  },
  "language_info": {
   "codemirror_mode": {
    "name": "ipython",
    "version": 3
   },
   "file_extension": ".py",
   "mimetype": "text/x-python",
   "name": "python",
   "nbconvert_exporter": "python",
   "pygments_lexer": "ipython3",
   "version": "3.6.8"
  }
 },
 "nbformat": 4,
 "nbformat_minor": 1
}
